{
 "cells": [
  {
   "cell_type": "code",
   "execution_count": 1,
   "metadata": {},
   "outputs": [],
   "source": [
    "import Adapted_VPC\n",
    "import pm4py\n",
    "from pyvis.network import Network"
   ]
  },
  {
   "cell_type": "code",
   "execution_count": 2,
   "metadata": {},
   "outputs": [
    {
     "name": "stderr",
     "output_type": "stream",
     "text": [
      "parsing log, completed traces :: 100%|██████████| 100/100 [00:00<00:00, 1079.03it/s]\n",
      "parsing log, completed traces :: 100%|██████████| 100/100 [00:00<00:00, 3015.21it/s]\n"
     ]
    }
   ],
   "source": [
    "# Step 1: Load Logs\n",
    "log_1 = pm4py.read_xes('sample_logs/sample_log_1.xes')\n",
    "log_2 = pm4py.read_xes('sample_logs/sample_log_2.xes')"
   ]
  },
  {
   "cell_type": "code",
   "execution_count": 3,
   "metadata": {},
   "outputs": [],
   "source": [
    "# Step 2: Concatenate Logs\n",
    "concatenated_log = Adapted_VPC.concat_logs(log_1, log_2, case_id_col='case:concept:name')"
   ]
  },
  {
   "cell_type": "code",
   "execution_count": 4,
   "metadata": {},
   "outputs": [],
   "source": [
    "# Step 3: Create a Network object\n",
    "nt = Network(height=\"1300px\", width=\"1300px\", directed=True)"
   ]
  },
  {
   "cell_type": "code",
   "execution_count": 5,
   "metadata": {},
   "outputs": [
    {
     "name": "stdout",
     "output_type": "stream",
     "text": [
      "Discover and filter DFG...\n",
      "Full DFG has 12 edges\n",
      "Filtered DFG has 12 edges\n",
      "Discovered DFG 1\n",
      "Discovered DFG 2\n",
      "Number of cases log 1: 100\n",
      "Number of cases log 2: 100\n",
      "Creating annotations...\n",
      "Adapted VPC done!\n"
     ]
    }
   ],
   "source": [
    "# Step 4: Apply the adapted VPC procedure\n",
    "# Parameters\n",
    "# nt, concatenated_log, log_1, log_2: Network object, concatenated log, and the two input logs\n",
    "# name_a/ name_b: name that will be displayed on DFG for input log 1/ 2\n",
    "# frac_paths: fraction of most frequent paths that will be displayed \n",
    "# show_edge_labels: whether to hide/ show edge labeels\n",
    "# edge_label_min: minimum relative frequency difference for edge to display label\n",
    "# case_coverage_min: minimum case coverage for edge to display label\n",
    "nt = Adapted_VPC.apply_adapted_vpc(nt, concatenated_log, log_1, log_2, name_a=\"A\", name_b=\"B\", frac_paths=1, show_edge_labels=True, edge_label_min=10, case_coverage_min=10)"
   ]
  },
  {
   "cell_type": "code",
   "execution_count": 9,
   "metadata": {},
   "outputs": [],
   "source": [
    "# Step 5: Display the DFG\n",
    "nt.toggle_physics(True) # nodes should be part of physics simulation\n",
    "nt.set_edge_smooth('dynamic') # edges have an invisible support node guiding the shape\n",
    "nt.show_buttons(filter_=['physics', 'manipulation']) # show physics widgets for manipulation\n",
    "nt.show('sample_output.html')"
   ]
  }
 ],
 "metadata": {
  "kernelspec": {
   "display_name": "Python 3",
   "language": "python",
   "name": "python3"
  },
  "language_info": {
   "codemirror_mode": {
    "name": "ipython",
    "version": 3
   },
   "file_extension": ".py",
   "mimetype": "text/x-python",
   "name": "python",
   "nbconvert_exporter": "python",
   "pygments_lexer": "ipython3",
   "version": "3.9.13"
  }
 },
 "nbformat": 4,
 "nbformat_minor": 2
}
